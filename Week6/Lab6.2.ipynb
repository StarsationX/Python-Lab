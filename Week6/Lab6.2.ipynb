{
 "cells": [
  {
   "cell_type": "code",
   "execution_count": 6,
   "metadata": {},
   "outputs": [
    {
     "name": "stdout",
     "output_type": "stream",
     "text": [
      "Employee's Name >>> GAJ\n",
      "Employee's Salary >>> $16000\n",
      "Employee's OT Money >>> $13500\n",
      "Total Pay >>> $29500\n",
      "\n",
      "Salary Squares:\n",
      "▮ ▮ ▮ ▮ ▮ ▮ ▮ ▮ ▮ ▮ ▮ ▮ ▮ ▮ ▮ ▮ \n",
      "Each square represents $1000. Total salary squares: 16\n",
      "\n",
      "OT Salary Squares:\n",
      "▮ ▮ ▮ ▮ ▮ ▮ ▮ ▮ ▮ ▮ ▮ ▮ ▮ \n",
      "Each square represents $1000. Total OT salary squares: 13\n",
      "\n",
      "Total Pay Squares:\n",
      "▮ ▮ ▮ ▮ ▮ ▮ ▮ ▮ ▮ ▮ ▮ ▮ ▮ ▮ ▮ ▮ ▮ ▮ ▮ ▮ ▮ ▮ ▮ ▮ ▮ ▮ ▮ ▮ ▮ \n",
      "Each square represents $1000. Total pay squares: 29\n"
     ]
    }
   ],
   "source": [
    "def ot(Time):\n",
    "    ic = 0\n",
    "    if Time > 40:\n",
    "        ic = Time * 150\n",
    "    else:\n",
    "        ic = Time * 100\n",
    "    return ic\n",
    "\n",
    "N = input(\"Employee's Name <<< \")\n",
    "M = int(input(\"Employee's Salary <<< \"))\n",
    "O = int(input(\"Employee's OT Hours <<< \"))\n",
    "overtime_pay = ot(O)\n",
    "\n",
    "total_pay = M + overtime_pay\n",
    "\n",
    "print(\"Employee's Name >>> %s\" % N)\n",
    "print(\"Employee's Salary >>> $%d\" % M)\n",
    "print(\"Employee's OT Money >>> $%d\" % overtime_pay)\n",
    "print(\"Total Pay >>> $%d\" % total_pay)\n",
    "\n",
    "# Decoration Down Here\n",
    "\n",
    "def print_squares(amount):\n",
    "    num_blocks = amount // 1000\n",
    "    for _ in range(num_blocks):\n",
    "        print(\"▮\", end=' ')\n",
    "    return num_blocks\n",
    "\n",
    "print(\"\\nSalary Squares:\")\n",
    "salary_blocks = print_squares(M)\n",
    "print(f\"\\nEach square represents $1000. Total salary squares: {salary_blocks}\")\n",
    "\n",
    "print(\"\\nOT Salary Squares:\")\n",
    "ot_blocks = print_squares(overtime_pay)\n",
    "print(f\"\\nEach square represents $1000. Total OT salary squares: {ot_blocks}\")\n",
    "\n",
    "print(\"\\nTotal Pay Squares:\")\n",
    "total_blocks = print_squares(total_pay)\n",
    "print(f\"\\nEach square represents $1000. Total pay squares: {total_blocks}\")\n"
   ]
  }
 ],
 "metadata": {
  "kernelspec": {
   "display_name": "Python 3",
   "language": "python",
   "name": "python3"
  },
  "language_info": {
   "codemirror_mode": {
    "name": "ipython",
    "version": 3
   },
   "file_extension": ".py",
   "mimetype": "text/x-python",
   "name": "python",
   "nbconvert_exporter": "python",
   "pygments_lexer": "ipython3",
   "version": "3.12.4"
  }
 },
 "nbformat": 4,
 "nbformat_minor": 2
}
